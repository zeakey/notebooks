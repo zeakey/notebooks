{
 "cells": [
  {
   "cell_type": "code",
   "execution_count": 267,
   "metadata": {},
   "outputs": [],
   "source": [
    "import numpy as np\n",
    "import matplotlib\n",
    "%matplotlib inline\n",
    "import matplotlib.cm as cm\n",
    "from scipy.ndimage.morphology import distance_transform_edt"
   ]
  },
  {
   "cell_type": "code",
   "execution_count": 274,
   "metadata": {},
   "outputs": [],
   "source": [
    "x = np.zeros((1, 1, 50, 50))\n",
    "x[:, :, 15:35, :] = 1"
   ]
  },
  {
   "cell_type": "code",
   "execution_count": 281,
   "metadata": {},
   "outputs": [],
   "source": [
    "def bwdist(images, margin_fg=5, margin_bg=5):\n",
    "    assert isinstance(images, np.ndarray)\n",
    "    assert np.unique(images).size == 2\n",
    "    assert images.ndim == 4\n",
    "    N, C, H, W = images.shape\n",
    "    assert C == 1\n",
    "    images = images.squeeze().astype(bool)\n",
    "    \n",
    "    # in case of batch-size == 1\n",
    "    if images.ndim == 2:\n",
    "        images = images[np.newaxis, :, :]\n",
    "    \n",
    "    for n in range(N):\n",
    "        \n",
    "        image1 = np.squeeze(images[n, :, :])\n",
    "\n",
    "        fg_mask = np.zeros_like(image1, dtype=bool)\n",
    "        bg_mask = np.zeros_like(image1, dtype=bool)\n",
    "\n",
    "        dist0 = distance_transform_edt(np.logical_not(image1))\n",
    "        dist1 = distance_transform_edt(image1)\n",
    "\n",
    "        bg_mask[dist0 <= margin_bg] = 0\n",
    "        bg_mask[dist0 > margin_bg] = 1\n",
    "        \n",
    "        fg_mask[dist1 <= margin_fg] = 0\n",
    "        fg_mask[dist1 > margin_fg] = 1\n",
    "        \n",
    "        return fg_mask, bg_mask"
   ]
  },
  {
   "cell_type": "code",
   "execution_count": 282,
   "metadata": {},
   "outputs": [],
   "source": [
    "fg, bg = bwdist(x, margin_bg=5, margin_fg=5)"
   ]
  },
  {
   "cell_type": "code",
   "execution_count": 283,
   "metadata": {},
   "outputs": [
    {
     "data": {
      "text/plain": [
       "<matplotlib.image.AxesImage at 0x7fe3e18a9160>"
      ]
     },
     "execution_count": 283,
     "metadata": {},
     "output_type": "execute_result"
    },
    {
     "data": {
      "image/png": "[encoded data removed]",
      "text/plain": [
       "<Figure size 432x288 with 1 Axes>"
      ]
     },
     "metadata": {
      "needs_background": "light"
     },
     "output_type": "display_data"
    }
   ],
   "source": [
    "plt.imshow(x[0, 0, :, :], cmap=cm.Greys_r)"
   ]
  },
  {
   "cell_type": "code",
   "execution_count": 284,
   "metadata": {},
   "outputs": [
    {
     "data": {
      "text/plain": [
       "<matplotlib.image.AxesImage at 0x7fe3e18fccf8>"
      ]
     },
     "execution_count": 284,
     "metadata": {},
     "output_type": "execute_result"
    },
    {
     "data": {
      "image/png": "[encoded data removed]",
      "text/plain": [
       "<Figure size 432x288 with 1 Axes>"
      ]
     },
     "metadata": {
      "needs_background": "light"
     },
     "output_type": "display_data"
    }
   ],
   "source": [
    "plt.imshow(fg, cmap=cm.Greys_r)"
   ]
  },
  {
   "cell_type": "code",
   "execution_count": 273,
   "metadata": {},
   "outputs": [
    {
     "data": {
      "text/plain": [
       "<matplotlib.image.AxesImage at 0x7fe3e1c57d30>"
      ]
     },
     "execution_count": 273,
     "metadata": {},
     "output_type": "execute_result"
    },
    {
     "data": {
      "image/png": "[encoded data removed]",
      "text/plain": [
       "<Figure size 432x288 with 1 Axes>"
      ]
     },
     "metadata": {
      "needs_background": "light"
     },
     "output_type": "display_data"
    }
   ],
   "source": [
    "plt.imshow(bg, cmap=cm.Greys_r)"
   ]
  },
  {
   "cell_type": "code",
   "execution_count": null,
   "metadata": {},
   "outputs": [],
   "source": []
  }
 ],
 "metadata": {
  "kernelspec": {
   "display_name": "Python 3",
   "language": "python",
   "name": "python3"
  },
  "language_info": {
   "codemirror_mode": {
    "name": "ipython",
    "version": 3
   },
   "file_extension": ".py",
   "mimetype": "text/x-python",
   "name": "python",
   "nbconvert_exporter": "python",
   "pygments_lexer": "ipython3",
   "version": "3.6.7"
  }
 },
 "nbformat": 4,
 "nbformat_minor": 2
}
